{
 "cells": [
  {
   "cell_type": "code",
   "execution_count": null,
   "metadata": {
    "id": "75o8SFDeX4nv"
   },
   "outputs": [],
   "source": [
    "import pandas as pd\n",
    "import numpy as np\n",
    "import seaborn as sns\n",
    "\n",
    "import matplotlib.pyplot as plt\n",
    "import matplotlib.mlab as mlab            # The functions in this package can add the fitting curve of the random variable distribution\n",
    "import numpy as np\n",
    "from functions import *\n",
    "from sklearn import decomposition\n",
    "from sklearn import preprocessing\n",
    "\n",
    "import matplotlib.pyplot as plt\n",
    "from sklearn.cluster import KMeans\n",
    "\n",
    "import statsmodels.formula.api as smf\n",
    "import statsmodels.api as sm"
   ]
  },
  {
   "cell_type": "markdown",
   "metadata": {
    "id": "vfFnN8P3ehJt"
   },
   "source": [
    "# Importation de la fonction function.py"
   ]
  },
  {
   "cell_type": "code",
   "execution_count": null,
   "metadata": {
    "colab": {
     "base_uri": "https://localhost:8080/",
     "height": 419
    },
    "id": "AO8a-kqbYI7z",
    "outputId": "2cf74edb-146a-4512-9e6a-863a6323cbb4"
   },
   "outputs": [],
   "source": [
    "data = pd.read_csv(\"notes.csv\", sep=\",\")\n",
    "data"
   ]
  },
  {
   "cell_type": "code",
   "execution_count": null,
   "metadata": {
    "id": "AjfEntHqqRDA"
   },
   "outputs": [],
   "source": [
    "data_reg = data[[\"diagonal\",\"height_left\",\"height_right\",\"margin_low\",\"margin_up\",\"length\"]]"
   ]
  },
  {
   "cell_type": "code",
   "execution_count": null,
   "metadata": {
    "id": "q4h6WHXbvdO9"
   },
   "outputs": [],
   "source": [
    "# Variables explicatives\n",
    "x = data_reg\n",
    "# variables à expliquer\n",
    "y = data.is_genuine"
   ]
  },
  {
   "cell_type": "code",
   "execution_count": null,
   "metadata": {
    "id": "XIwrGuJ3xKBr"
   },
   "outputs": [],
   "source": [
    "import sklearn\n",
    "from sklearn import preprocessing, decomposition, metrics\n",
    "from sklearn.cluster import KMeans\n",
    "from sklearn.linear_model import LogisticRegression\n",
    "from sklearn.model_selection import train_test_split, cross_validate, cross_val_score\n",
    "from sklearn.metrics import confusion_matrix, classification_report\n",
    "print(sklearn.__version__)"
   ]
  },
  {
   "cell_type": "code",
   "execution_count": null,
   "metadata": {
    "id": "KakSdtBvxQcW"
   },
   "outputs": [],
   "source": [
    "import os\n",
    "os.makedirs('graph', exist_ok=True)"
   ]
  },
  {
   "cell_type": "code",
   "execution_count": null,
   "metadata": {
    "id": "qK00hyf4wQGv"
   },
   "outputs": [],
   "source": [
    "# Partition du jeu de données\n",
    "x_train, x_test, y_train, y_test = train_test_split(x, y, test_size=0.25)"
   ]
  },
  {
   "cell_type": "code",
   "execution_count": null,
   "metadata": {
    "id": "BhJ36fqJw-8v"
   },
   "outputs": [],
   "source": [
    "# Régression logistique\n",
    "reg_log = LogisticRegression(solver='liblinear')\n",
    "reg_log.fit(x_train, y_train)\n",
    "\n",
    "# Sauvegarde de prédictions\n",
    "y_pred = reg_log.predict(x_test)\n",
    "y_pred"
   ]
  },
  {
   "cell_type": "code",
   "execution_count": null,
   "metadata": {},
   "outputs": [],
   "source": [
    "matr_conf = metrics.confusion_matrix(y_test, y_pred)\n",
    "matr_conf = pd.DataFrame(matr_conf)\n",
    "matr_conf"
   ]
  },
  {
   "cell_type": "code",
   "execution_count": null,
   "metadata": {
    "id": "0x-ehxNSyuhD"
   },
   "outputs": [],
   "source": [
    "# colonnes => prediction\n",
    "# lignes => realité\n",
    "# Composition de la matrice de confusion\n",
    "true_pos_rl = matr_conf[1][1]\n",
    "false_neg_rl = matr_conf[0][1]\n",
    "true_neg_rl = matr_conf[0][0]\n",
    "false_pos_rl = matr_conf[1][0]\n",
    "true_pos_rl, true_neg_rl, false_pos_rl, false_neg_rl"
   ]
  },
  {
   "cell_type": "markdown",
   "metadata": {},
   "source": [
    "### Taux de succès : probabilité de bon classement du modèle\n",
    "\n",
    "### Sensibilité : capacité du modèle à retrouver les positifs\n",
    "\n",
    "### Précision : proportion de vrais positifs parmi les individus classés positifs\n",
    "\n",
    "### Spécificité : proportion de négatifs détectés"
   ]
  },
  {
   "cell_type": "code",
   "execution_count": null,
   "metadata": {
    "id": "F4iW-XLu1mzl"
   },
   "outputs": [],
   "source": [
    "# Taux de succès : probabilité de bon classement du modèle\n",
    "print('Taux de succès:',metrics.accuracy_score(y_test, y_pred))\n",
    "\n",
    "#Précision : proportion de vrais positifs parmi les individus classés positifs\n",
    "print(\"Précision:\",metrics.precision_score(y_test, y_pred))\n",
    "\n",
    "\n",
    "#Sensibilité : capacité du modèle à retrouver les positifs\n",
    "print(\"Rappel ou Sensibilité:\",metrics.recall_score(y_test, y_pred))"
   ]
  },
  {
   "cell_type": "code",
   "execution_count": null,
   "metadata": {},
   "outputs": [],
   "source": [
    "print(\"Spécificité:\",true_neg_rl/(true_neg_rl + false_pos_rl))\n"
   ]
  },
  {
   "cell_type": "code",
   "execution_count": null,
   "metadata": {
    "id": "6LR_mmoJ3Rhl"
   },
   "outputs": [],
   "source": [
    "y_pred_train = reg_log.predict(x_train)\n",
    "y_pred_train"
   ]
  },
  {
   "cell_type": "code",
   "execution_count": null,
   "metadata": {
    "id": "3AVD7vOH3WjA"
   },
   "outputs": [],
   "source": [
    "print('Accuracy:',metrics.accuracy_score(y_train, y_pred_train))\n",
    "\n",
    "print(\"Precision:\",metrics.precision_score(y_train, y_pred_train))\n",
    "\n",
    "print(\"Recall:\",metrics.recall_score(y_train, y_pred_train))"
   ]
  },
  {
   "cell_type": "code",
   "execution_count": null,
   "metadata": {
    "id": "6b01k9eu3tMF"
   },
   "outputs": [],
   "source": [
    "y_pred_proba = reg_log.predict_proba(x_test)\n",
    "y_pred_proba"
   ]
  },
  {
   "cell_type": "code",
   "execution_count": null,
   "metadata": {
    "id": "9-qwQBCp4HLm"
   },
   "outputs": [],
   "source": [
    "# Exemple d'application du modèle de prédiction"
   ]
  },
  {
   "cell_type": "code",
   "execution_count": null,
   "metadata": {},
   "outputs": [],
   "source": [
    "example = pd.read_csv(\"example.csv\")\n",
    "example"
   ]
  },
  {
   "cell_type": "code",
   "execution_count": null,
   "metadata": {},
   "outputs": [],
   "source": [
    "id_billets = data.columns.drop('is_genuine')\n",
    "x_example = example[id_billets].values\n",
    "\n",
    "y_predict_example = reg_log.predict(x_example)"
   ]
  },
  {
   "cell_type": "code",
   "execution_count": null,
   "metadata": {},
   "outputs": [],
   "source": [
    "#Ajout du resultat\n",
    "example['is_genuine'] = y_predict_example"
   ]
  },
  {
   "cell_type": "code",
   "execution_count": null,
   "metadata": {},
   "outputs": [],
   "source": [
    "#Calcul des probas d'affectaion sur l'ech. à prédire\n",
    "probas = reg_log.predict_proba(x_example)\n",
    "\n",
    "example['Probas_faux'] = probas[:,0]\n",
    "example['Probas_vrais'] = probas[:,1]\n",
    "example"
   ]
  },
  {
   "cell_type": "code",
   "execution_count": null,
   "metadata": {},
   "outputs": [],
   "source": [
    "#Restriction sur vrais et les faux billets\n",
    "vrais_billets = example[example['is_genuine'] == True]\n",
    "faux_billets = example[example['is_genuine'] == False]"
   ]
  },
  {
   "cell_type": "code",
   "execution_count": null,
   "metadata": {},
   "outputs": [],
   "source": [
    "#Impression des identifiants des vrais billets et de leurs probalités\n",
    "a1 = ['Le billet ' + str(vrais_billets.iloc[i,6]) +\n",
    "      ' serait un vrai car il a une probabilité de ' +\n",
    "      str(vrais_billets.iloc[i,9]) for i in range(vrais_billets.shape[0])]\n",
    "for j in range(vrais_billets.shape[0]):\n",
    "    print(a1[j])"
   ]
  },
  {
   "cell_type": "code",
   "execution_count": null,
   "metadata": {},
   "outputs": [],
   "source": [
    "#Impression des identifiants des vrais billets et de leurs probalités\n",
    "a1 = ['Le billet ' + str(faux_billets.iloc[i,6]) +\n",
    "      ' serait un faux car il a une probabilité de ' +\n",
    "      str(faux_billets.iloc[i,8]) for i in range(faux_billets.shape[0])]\n",
    "for j in range(faux_billets.shape[0]):\n",
    "    print(a1[j])"
   ]
  },
  {
   "cell_type": "code",
   "execution_count": null,
   "metadata": {},
   "outputs": [],
   "source": []
  }
 ],
 "metadata": {
  "colab": {
   "collapsed_sections": [],
   "name": "Projet 6 Détecter les faux billets",
   "provenance": []
  },
  "kernelspec": {
   "display_name": "Python 3",
   "language": "python",
   "name": "python3"
  },
  "language_info": {
   "codemirror_mode": {
    "name": "ipython",
    "version": 3
   },
   "file_extension": ".py",
   "mimetype": "text/x-python",
   "name": "python",
   "nbconvert_exporter": "python",
   "pygments_lexer": "ipython3",
   "version": "3.8.8"
  }
 },
 "nbformat": 4,
 "nbformat_minor": 1
}
